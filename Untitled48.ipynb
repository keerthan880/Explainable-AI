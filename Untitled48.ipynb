{
  "nbformat": 4,
  "nbformat_minor": 0,
  "metadata": {
    "colab": {
      "provenance": [],
      "include_colab_link": true
    },
    "kernelspec": {
      "name": "python3",
      "display_name": "Python 3"
    },
    "language_info": {
      "name": "python"
    }
  },
  "cells": [
    {
      "cell_type": "markdown",
      "metadata": {
        "id": "view-in-github",
        "colab_type": "text"
      },
      "source": [
        "<a href=\"https://colab.research.google.com/github/2303A5229272/Ex-Ai/blob/main/Untitled48.ipynb\" target=\"_parent\"><img src=\"https://colab.research.google.com/assets/colab-badge.svg\" alt=\"Open In Colab\"/></a>"
      ]
    },
    {
      "cell_type": "code",
      "execution_count": 1,
      "metadata": {
        "id": "KNCnqjfsOgZC"
      },
      "outputs": [],
      "source": [
        "import os\n",
        "import math\n",
        "import numpy as np\n",
        "import pandas as pd\n",
        "import matplotlib.pyplot as plt\n",
        "from sklearn.model_selection import train_test_split\n",
        "from sklearn.ensemble import RandomForestClassifier\n",
        "from sklearn.metrics import accuracy_score, roc_auc_score, classification_report, confusion_matrix, RocCurveDisplay\n",
        "from sklearn.preprocessing import StandardScaler\n",
        "from sklearn.linear_model import LinearRegression, LogisticRegression"
      ]
    },
    {
      "cell_type": "code",
      "source": [
        "DATA_PATH = \"/content/Plant_1_Generation_Data.csv.zip\""
      ],
      "metadata": {
        "id": "YmYpGQazOhi1"
      },
      "execution_count": 2,
      "outputs": []
    },
    {
      "cell_type": "code",
      "source": [
        "def synthesize_solar_dataset(n=200, seed=42):\n",
        "    rng = np.random.default_rng(seed)\n",
        "    irradiance = rng.normal(650, 180, n).clip(50, 1100)\n",
        "    cloud_cover = rng.normal(35, 25, n).clip(0, 100)\n",
        "    temperature = rng.normal(28, 8, n).clip(-5, 48)\n",
        "    humidity = rng.normal(45, 20, n).clip(5, 100)\n",
        "    wind_speed = rng.normal(4.5, 2.0, n).clip(0, 20)\n",
        "    precipitation = rng.gamma(1.2, 1.8, n).clip(0, 30)\n",
        "    score = (\n",
        "        0.009 * irradiance\n",
        "        - 0.02 * cloud_cover\n",
        "        - 0.006 * humidity\n",
        "        + 0.03 * np.maximum(0, 28 - np.abs(temperature - 28))\n",
        "        - 0.02 * precipitation\n",
        "        + rng.normal(0, 0.8, n)\n",
        "    )\n",
        "    production = np.where(score >= np.median(score), \"High\", \"Low\")\n",
        "    return pd.DataFrame({\n",
        "        'irradiance': irradiance,\n",
        "        'cloud_cover': cloud_cover,\n",
        "        'temperature': temperature,\n",
        "        'humidity': humidity,\n",
        "        'wind_speed': wind_speed,\n",
        "        'precipitation': precipitation,\n",
        "        'production': production\n",
        "    })\n",
        "    score = (\n",
        "        0.009 * irradiance\n",
        "        - 0.02 * cloud_cover\n",
        "        - 0.006 * humidity\n",
        "        + 0.03 * np.maximum(0, 28 - np.abs(temperature - 28))\n",
        "        - 0.02 * precipitation\n",
        "        + rng.normal(0, 0.8, n)\n",
        "    )\n",
        "    production = np.where(score >= np.median(score), \"High\", \"Low\")\n",
        "    return pd.DataFrame({\n",
        "        \"irradiance\": irradiance,\n",
        "        \"cloud_cover\": cloud_cover,\n",
        "        \"temperature\": temperature,\n",
        "        \"humidity\": humidity,\n",
        "        \"wind_speed\": wind_speed,\n",
        "        \"precipitation\": precipitation,\n",
        "        \"production\": production\n",
        "    })\n"
      ],
      "metadata": {
        "id": "wfOXOT_WOugs"
      },
      "execution_count": 3,
      "outputs": []
    },
    {
      "cell_type": "code",
      "source": [
        "if os.path.exists(DATA_PATH):\n",
        "    df = pd.read_csv(DATA_PATH)\n",
        "    # Assuming 'production' is the last column if not explicitly named\n",
        "    if 'production' not in df.columns:\n",
        "        target_col = df.columns[-1]\n",
        "        df = df.rename(columns={target_col: 'production'})\n",
        "    # For the original data, classify 'High' production based on a threshold\n",
        "    # Using the mean of the 'production' column as a threshold for demonstration\n",
        "    # A more sophisticated method might be needed based on domain knowledge\n",
        "    production_threshold = df['production'].mean()\n",
        "    y = (df['production'] > production_threshold).astype(int)\n",
        "    # Drop non-numeric columns and the original 'production' column before splitting the data\n",
        "    X = df.drop(columns=[\"production\", \"DATE_TIME\", \"PLANT_ID\", \"SOURCE_KEY\"], errors='ignore')\n",
        "\n",
        "else:\n",
        "    df = synthesize_solar_dataset()\n",
        "    df.to_csv(DATA_PATH, index=False)\n",
        "    # For synthetic data, 'production' is already 'High' or 'Low'\n",
        "    X = df.drop(columns=[\"production\"], errors='ignore')\n",
        "    y = (df[\"production\"] == \"High\").astype(int)\n",
        "\n",
        "\n",
        "print(\"Dataset shape:\", df.shape)\n",
        "print(df.head())"
      ],
      "metadata": {
        "colab": {
          "base_uri": "https://localhost:8080/"
        },
        "id": "qYgHjjCqOxZv",
        "outputId": "62756650-284a-4888-d12b-480da3ab0686"
      },
      "execution_count": 4,
      "outputs": [
        {
          "output_type": "stream",
          "name": "stdout",
          "text": [
            "Dataset shape: (68778, 7)\n",
            "          DATE_TIME  PLANT_ID       SOURCE_KEY  DC_POWER  AC_POWER  \\\n",
            "0  15-05-2020 00:00   4135001  1BY6WEcLGh8j5v7       0.0       0.0   \n",
            "1  15-05-2020 00:00   4135001  1IF53ai7Xc0U56Y       0.0       0.0   \n",
            "2  15-05-2020 00:00   4135001  3PZuoBAID5Wc2HD       0.0       0.0   \n",
            "3  15-05-2020 00:00   4135001  7JYdWkrLSPkdwr4       0.0       0.0   \n",
            "4  15-05-2020 00:00   4135001  McdE0feGgRqW7Ca       0.0       0.0   \n",
            "\n",
            "   DAILY_YIELD  production  \n",
            "0          0.0   6259559.0  \n",
            "1          0.0   6183645.0  \n",
            "2          0.0   6987759.0  \n",
            "3          0.0   7602960.0  \n",
            "4          0.0   7158964.0  \n"
          ]
        }
      ]
    },
    {
      "cell_type": "code",
      "source": [
        "X_train, X_test, y_train, y_test = train_test_split(X, y, test_size=0.25, random_state=42, stratify=y)\n",
        "\n",
        "rf = RandomForestClassifier(n_estimators=300, random_state=42)\n",
        "rf.fit(X_train, y_train)\n",
        "\n",
        "y_proba = rf.predict_proba(X_test)[:, 1]\n",
        "y_pred = (y_proba >= 0.5).astype(int)\n",
        "\n",
        "print(\"\\nModel Performance:\")\n",
        "print(\"Accuracy:\", accuracy_score(y_test, y_pred))\n",
        "print(\"ROC AUC:\", roc_auc_score(y_test, y_proba))\n",
        "print(\"\\nClassification Report:\\n\", classification_report(y_test, y_pred))\n",
        "print(\"Confusion Matrix:\\n\", confusion_matrix(y_test, y_pred))"
      ],
      "metadata": {
        "colab": {
          "base_uri": "https://localhost:8080/"
        },
        "id": "70-bA6mpO3d6",
        "outputId": "96600555-2991-4f99-ff13-d765699478a2"
      },
      "execution_count": 5,
      "outputs": [
        {
          "output_type": "stream",
          "name": "stdout",
          "text": [
            "\n",
            "Model Performance:\n",
            "Accuracy: 0.6805466705437627\n",
            "ROC AUC: 0.6810105231229827\n",
            "\n",
            "Classification Report:\n",
            "               precision    recall  f1-score   support\n",
            "\n",
            "           0       0.59      0.31      0.41      6084\n",
            "           1       0.70      0.88      0.78     11111\n",
            "\n",
            "    accuracy                           0.68     17195\n",
            "   macro avg       0.65      0.60      0.60     17195\n",
            "weighted avg       0.66      0.68      0.65     17195\n",
            "\n",
            "Confusion Matrix:\n",
            " [[1906 4178]\n",
            " [1315 9796]]\n"
          ]
        }
      ]
    },
    {
      "cell_type": "code",
      "source": [
        "imp = pd.Series(rf.feature_importances_, index=X.columns).sort_values(ascending=False)\n",
        "imp.plot(kind=\"bar\", title=\"Feature Importances\")\n",
        "plt.tight_layout()\n",
        "plt.show()\n",
        "\n",
        "# ROC Curve\n",
        "RocCurveDisplay.from_predictions(y_test, y_proba)\n",
        "plt.title(\"ROC Curve\")\n",
        "plt.show()\n"
      ],
      "metadata": {
        "colab": {
          "base_uri": "https://localhost:8080/",
          "height": 942
        },
        "id": "og1V_A_iPVgN",
        "outputId": "e0785395-53bd-4fef-efb4-f010edc6ef23"
      },
      "execution_count": 6,
      "outputs": [
        {
          "output_type": "display_data",
          "data": {
            "text/plain": [
              "<Figure size 640x480 with 1 Axes>"
            ],
            "image/png": "[encoded data removed]"
          },
          "metadata": {}
        },
        {
          "output_type": "display_data",
          "data": {
            "text/plain": [
              "<Figure size 640x480 with 1 Axes>"
            ],
            "image/png": "[encoded data removed]"
          },
          "metadata": {}
        }
      ]
    },
    {
      "cell_type": "code",
      "source": [
        "class SimpleTabularLIME:\n",
        "    def __init__(self, X_train, kernel_width=None):\n",
        "        self.feature_names = list(X_train.columns)\n",
        "        self.scaler = StandardScaler().fit(X_train.values)\n",
        "        self.means_ = X_train.mean().values\n",
        "        self.stds_ = X_train.std(ddof=0).replace(0, 1).values\n",
        "        d = X_train.shape[1]\n",
        "        self.kernel_width = kernel_width if kernel_width else 0.75 * math.sqrt(d)\n",
        "\n",
        "    def _kernel(self, distances):\n",
        "        return np.sqrt(np.exp(-(distances**2) / (self.kernel_width**2)))\n",
        "\n",
        "    def explain_instance(self, x, model, num_samples=2000):\n",
        "        x_vec = x.values.astype(float)\n",
        "        Z = np.random.normal(loc=x_vec, scale=self.stds_, size=(num_samples, len(x_vec)))\n",
        "        Z[0, :] = x_vec\n",
        "        proba = model.predict_proba(Z)[:, 1]\n",
        "\n",
        "        Zs = self.scaler.transform(Z)\n",
        "        xs = self.scaler.transform(x_vec.reshape(1, -1))\n",
        "        distances = np.linalg.norm(Zs - xs, axis=1)\n",
        "        weights = self._kernel(distances)\n",
        "\n",
        "        reg = LinearRegression()\n",
        "        reg.fit(Z, proba, sample_weight=weights)\n",
        "\n",
        "        coefs = reg.coef_\n",
        "        contrib = coefs * (x_vec - self.means_)\n",
        "\n",
        "        explanation = pd.DataFrame({\n",
        "            \"feature\": self.feature_names,\n",
        "            \"value\": x_vec,\n",
        "            \"coef_local\": coefs,\n",
        "            \"contribution\": contrib\n",
        "        }).sort_values(\"contribution\", key=np.abs, ascending=False)\n",
        "\n",
        "        return explanation\n"
      ],
      "metadata": {
        "id": "8AoLksBFPvPm"
      },
      "execution_count": 7,
      "outputs": []
    },
    {
      "cell_type": "code",
      "source": [
        "test_sample = X_test.iloc[0]\n",
        "lime_explainer = SimpleTabularLIME(X_train)\n",
        "explanation = lime_explainer.explain_instance(test_sample, rf)\n",
        "\n",
        "print(\"\\nLIME-style Explanation for one test instance:\\n\")\n",
        "print(explanation.head(8))"
      ],
      "metadata": {
        "colab": {
          "base_uri": "https://localhost:8080/"
        },
        "id": "aF09DBHSP0CE",
        "outputId": "933bebf7-fb5e-4e2e-eafb-d15d97a1a43f"
      },
      "execution_count": 8,
      "outputs": [
        {
          "output_type": "stream",
          "name": "stdout",
          "text": [
            "\n",
            "LIME-style Explanation for one test instance:\n",
            "\n",
            "       feature      value  coef_local  contribution\n",
            "2  DAILY_YIELD  7880.5000   -0.000057     -0.261704\n",
            "1     AC_POWER    36.2125   -0.000039      0.010543\n",
            "0     DC_POWER   374.5000   -0.000003      0.009127\n"
          ]
        },
        {
          "output_type": "stream",
          "name": "stderr",
          "text": [
            "/usr/local/lib/python3.12/dist-packages/sklearn/utils/validation.py:2739: UserWarning: X does not have valid feature names, but RandomForestClassifier was fitted with feature names\n",
            "  warnings.warn(\n"
          ]
        }
      ]
    },
    {
      "cell_type": "code",
      "source": [
        "def synthesize_movies(n=300, seed=42):\n",
        "    rng = np.random.default_rng(seed)\n",
        "    rating = rng.integers(1, 6, size=n)   # ratings 1–5\n",
        "    genre_action = rng.integers(0, 2, n)\n",
        "    genre_comedy = rng.integers(0, 2, n)\n",
        "    genre_drama = rng.integers(0, 2, n)\n",
        "    avg_rating_movie = rng.normal(3.5, 0.8, n).clip(1, 5)\n",
        "    age = rng.integers(15, 70, n)\n",
        "\n",
        "    like = ((rating >= 4) | (avg_rating_movie > 3.7)).astype(int)\n",
        "\n",
        "    return pd.DataFrame({\n",
        "        \"rating\": rating,\n",
        "        \"genre_action\": genre_action,\n",
        "        \"genre_comedy\": genre_comedy,\n",
        "        \"genre_drama\": genre_drama,\n",
        "        \"avg_rating_movie\": avg_rating_movie,\n",
        "        \"user_age\": age,\n",
        "        \"like\": like\n",
        "    })\n",
        "\n",
        "df = synthesize_movies()\n",
        "print(\"Movie dataset:\\n\", df.head())\n",
        "\n",
        "X = df.drop(\"like\", axis=1)\n",
        "y = df[\"like\"]"
      ],
      "metadata": {
        "colab": {
          "base_uri": "https://localhost:8080/"
        },
        "id": "O6yOnOBlP3KX",
        "outputId": "ea8bebe0-43b2-4f5c-9646-e7c585299cbd"
      },
      "execution_count": 9,
      "outputs": [
        {
          "output_type": "stream",
          "name": "stdout",
          "text": [
            "Movie dataset:\n",
            "    rating  genre_action  genre_comedy  genre_drama  avg_rating_movie  \\\n",
            "0       1             0             1            0          4.498360   \n",
            "1       4             1             1            0          3.297986   \n",
            "2       4             0             1            0          3.790763   \n",
            "3       3             1             0            1          1.572062   \n",
            "4       3             1             1            0          2.574922   \n",
            "\n",
            "   user_age  like  \n",
            "0        22     1  \n",
            "1        31     1  \n",
            "2        32     1  \n",
            "3        57     0  \n",
            "4        31     0  \n"
          ]
        }
      ]
    },
    {
      "cell_type": "code",
      "source": [
        "X_train, X_test, y_train, y_test = train_test_split(X, y, test_size=0.25, random_state=42, stratify=y)\n",
        "clf = RandomForestClassifier(n_estimators=200, random_state=42)\n",
        "clf.fit(X_train, y_train)\n",
        "\n",
        "y_pred = clf.predict(X_test)\n",
        "print(\"\\nPerformance:\")\n",
        "print(\"Accuracy:\", accuracy_score(y_test, y_pred))\n",
        "print(\"\\nClassification Report:\\n\", classification_report(y_test, y_pred))"
      ],
      "metadata": {
        "colab": {
          "base_uri": "https://localhost:8080/"
        },
        "id": "4Qu1iA1TQ1sv",
        "outputId": "7ac855d1-6a6d-4fee-9193-2d590f3e0e51"
      },
      "execution_count": 10,
      "outputs": [
        {
          "output_type": "stream",
          "name": "stdout",
          "text": [
            "\n",
            "Performance:\n",
            "Accuracy: 1.0\n",
            "\n",
            "Classification Report:\n",
            "               precision    recall  f1-score   support\n",
            "\n",
            "           0       1.00      1.00      1.00        28\n",
            "           1       1.00      1.00      1.00        47\n",
            "\n",
            "    accuracy                           1.00        75\n",
            "   macro avg       1.00      1.00      1.00        75\n",
            "weighted avg       1.00      1.00      1.00        75\n",
            "\n"
          ]
        }
      ]
    },
    {
      "cell_type": "code",
      "source": [
        "class SimpleLIME:\n",
        "    def __init__(self, X_train):\n",
        "        self.scaler = StandardScaler().fit(X_train.values)\n",
        "        self.means_ = X_train.mean().values\n",
        "        self.stds_ = X_train.std().values\n",
        "        self.feature_names = X_train.columns.tolist()\n",
        "\n",
        "    def explain(self, x, model, n=1000):\n",
        "        Z = np.random.normal(loc=x.values, scale=self.stds_, size=(n, len(x)))\n",
        "        proba = model.predict_proba(Z)[:,1]\n",
        "        Zs = self.scaler.transform(Z)\n",
        "        reg = LinearRegression()\n",
        "        reg.fit(Zs, proba)\n",
        "        contrib = reg.coef_ * (x.values - self.means_) # Corrected calculation\n",
        "        return pd.DataFrame({\"feature\": self.feature_names, \"contribution\": contrib}).sort_values(\"contribution\", key=np.abs, ascending=False)\n",
        "\n",
        "lime = SimpleLIME(X_train)\n",
        "exp = lime.explain(X_test.iloc[0], clf)\n",
        "print(\"\\nLIME explanation for one user/movie:\\n\", exp.head(5))"
      ],
      "metadata": {
        "colab": {
          "base_uri": "https://localhost:8080/"
        },
        "id": "qGXi39dZSDAb",
        "outputId": "0278e310-7c26-44b1-afe9-864f2e3c0a1f"
      },
      "execution_count": 11,
      "outputs": [
        {
          "output_type": "stream",
          "name": "stdout",
          "text": [
            "\n",
            "LIME explanation for one user/movie:\n",
            "             feature  contribution\n",
            "0            rating      0.228900\n",
            "4  avg_rating_movie      0.014269\n",
            "5          user_age     -0.009794\n",
            "1      genre_action      0.004258\n",
            "2      genre_comedy      0.002615\n"
          ]
        },
        {
          "output_type": "stream",
          "name": "stderr",
          "text": [
            "/usr/local/lib/python3.12/dist-packages/sklearn/utils/validation.py:2739: UserWarning: X does not have valid feature names, but RandomForestClassifier was fitted with feature names\n",
            "  warnings.warn(\n"
          ]
        }
      ]
    }
  ]
}